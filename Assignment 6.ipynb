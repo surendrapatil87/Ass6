{
 "cells": [
  {
   "cell_type": "markdown",
   "id": "8e13e7a5",
   "metadata": {},
   "source": [
    "# Q.1. What are keywords in python? Using the keyword library, print all the python keywords.\n"
   ]
  },
  {
   "cell_type": "markdown",
   "id": "d2931c99",
   "metadata": {},
   "source": [
    "Answer=== \n",
    "Keywords are predefined, reserved words used in Python programming that have special meanings to the compiler, you  can use kwlist of keyword\n"
   ]
  },
  {
   "cell_type": "code",
   "execution_count": 1,
   "id": "5d71b22c",
   "metadata": {},
   "outputs": [
    {
     "name": "stdout",
     "output_type": "stream",
     "text": [
      "Python keywords are...\n",
      "['False', 'None', 'True', 'and', 'as', 'assert', 'async', 'await', 'break', 'class', 'continue', 'def', 'del', 'elif', 'else', 'except', 'finally', 'for', 'from', 'global', 'if', 'import', 'in', 'is', 'lambda', 'nonlocal', 'not', 'or', 'pass', 'raise', 'return', 'try', 'while', 'with', 'yield']\n"
     ]
    }
   ],
   "source": [
    "import keyword # printing the keywords\n",
    "print(\"Python keywords are...\")\n",
    "print(keyword.kwlist)"
   ]
  },
  {
   "cell_type": "markdown",
   "id": "cd9394f5",
   "metadata": {},
   "source": [
    "# Q.2. What are the rules to create variables in python?"
   ]
  },
  {
   "cell_type": "markdown",
   "id": "a909ca1c",
   "metadata": {},
   "source": [
    "Ans===\n",
    "A variable name must start with a letter or the underscore character\n",
    "\n",
    "A variable name cannot start with a number\n",
    "\n",
    "A variable name can only contain alpha-numeric characters and underscores (A-z, 0-9, and _ )\n",
    "\n",
    "Variable names are case-sensitive (age, Age and AGE are three different variables)"
   ]
  },
  {
   "cell_type": "code",
   "execution_count": 2,
   "id": "d1167a2d",
   "metadata": {},
   "outputs": [],
   "source": [
    "myname = \"John\"\n",
    "my_name = \"John\"\n",
    "_my_name = \"John\"\n",
    "myName = \"John\"\n",
    "MYNAME = \"John\"\n",
    "myName2 = \"John\""
   ]
  },
  {
   "cell_type": "markdown",
   "id": "4569a93c",
   "metadata": {},
   "source": [
    "# Q.3. What are the standards and conventions followed for the nomenclature of variables in python to improve code readability and maintainability ?"
   ]
  },
  {
   "cell_type": "markdown",
   "id": "3007e98c",
   "metadata": {},
   "source": [
    "Ans===\n",
    "One Statement of Code per Line. ...\n",
    "Explicit code. ...\n",
    "Passing args to Functions. ...\n",
    "Return Statements. ...\n",
    "Access a Dictionary Element. ...\n",
    "Filtering a List. ...\n",
    "Updating Values in a List. ...\n",
    "Read From a File\n"
   ]
  },
  {
   "cell_type": "markdown",
   "id": "ef96364e",
   "metadata": {},
   "source": [
    "# Q.4. What will happen if a keyword is used as a variable name?"
   ]
  },
  {
   "cell_type": "markdown",
   "id": "82f7ef53",
   "metadata": {},
   "source": [
    "Ans ==\n",
    "We cannot use a keyword as a variable name, function name, or any other identifier"
   ]
  },
  {
   "cell_type": "markdown",
   "id": "81e011bf",
   "metadata": {},
   "source": [
    "# Q.5. For what purpose def keyword is used?\n"
   ]
  },
  {
   "cell_type": "markdown",
   "id": "db0e20d7",
   "metadata": {},
   "source": [
    "Ans=== The def keyword is used to create a function."
   ]
  },
  {
   "cell_type": "markdown",
   "id": "ee13d4c2",
   "metadata": {},
   "source": [
    "# Q.6. What is the operation of this special character ‘\\’?"
   ]
  },
  {
   "cell_type": "markdown",
   "id": "ec7413bb",
   "metadata": {},
   "source": [
    "Ans==\n",
    "the backslash \\ is a special character, also called the escape"
   ]
  },
  {
   "cell_type": "markdown",
   "id": "35d9b3ef",
   "metadata": {},
   "source": [
    "# Q.7. Give an example of the following conditions:\n",
    "(i) Homogeneous list\n",
    "(ii) Heterogeneous set\n",
    "(iii) Homogeneous tuple"
   ]
  },
  {
   "cell_type": "code",
   "execution_count": 4,
   "id": "1b814327",
   "metadata": {},
   "outputs": [],
   "source": [
    "#(i) Homogeneous list\n",
    "hom_lst1 = [1,2,3,4,5,6] #Example all integer list\n",
    "hom_lst1 = ['Apple', 'Mango', 'Banana', 'Grapes'] # List of all fruits"
   ]
  },
  {
   "cell_type": "code",
   "execution_count": 5,
   "id": "4daba448",
   "metadata": {},
   "outputs": [],
   "source": [
    "#(ii) Heterogeneous set\n",
    "het_set ={'q', 3.24, 1, True} # Set comprise of various data types"
   ]
  },
  {
   "cell_type": "code",
   "execution_count": 6,
   "id": "7658664a",
   "metadata": {},
   "outputs": [],
   "source": [
    "#(iii) Homogeneous tuple\n",
    "hom_typ = ['Apple', 'Mango', 'Banana', 'Grapes'] # Tuple of all fruits"
   ]
  },
  {
   "cell_type": "markdown",
   "id": "f3253bab",
   "metadata": {},
   "source": [
    "# Q.8. Explain the mutable and immutable data types with proper explanation & examples"
   ]
  },
  {
   "cell_type": "markdown",
   "id": "a2c23f0e",
   "metadata": {},
   "source": [
    "Ans==\n",
    "Mutable\n",
    "\n",
    "Mutable: which means their elements can be changed (added, modified, or deleted) after they are created\n"
   ]
  },
  {
   "cell_type": "code",
   "execution_count": 12,
   "id": "26ee0768",
   "metadata": {},
   "outputs": [
    {
     "name": "stdout",
     "output_type": "stream",
     "text": [
      "['Delhi', 'Mumbai', 'Kolkata']\n"
     ]
    }
   ],
   "source": [
    "cities = [\"Delhi\", \"Mumbai\", \"Kolkata\"]\n",
    "print(cities)"
   ]
  },
  {
   "cell_type": "markdown",
   "id": "8bdaf184",
   "metadata": {},
   "source": [
    "Immutable"
   ]
  },
  {
   "cell_type": "markdown",
   "id": "e7e1df65",
   "metadata": {},
   "source": [
    "Immutable: which means their elements cannot be changed (no addition, modification, or deletion) after they are created."
   ]
  },
  {
   "cell_type": "code",
   "execution_count": 13,
   "id": "17ee0ad3",
   "metadata": {},
   "outputs": [
    {
     "name": "stdout",
     "output_type": "stream",
     "text": [
      "('Delhi', 'Mumbai', 'Kolkata')\n"
     ]
    }
   ],
   "source": [
    "cities = (\"Delhi\", \"Mumbai\", \"Kolkata\")\n",
    "print(cities)"
   ]
  },
  {
   "cell_type": "markdown",
   "id": "d28e26e7",
   "metadata": {},
   "source": [
    "# Q.9. Write a code to create the given structure using only for loop.\n",
    "\n",
    " # *\n",
    "# ***\n",
    "# *****\n",
    "# *******\n",
    "# ********"
   ]
  },
  {
   "cell_type": "code",
   "execution_count": 7,
   "id": "e6f2058d",
   "metadata": {},
   "outputs": [
    {
     "name": "stdout",
     "output_type": "stream",
     "text": [
      "*\n",
      "***\n",
      "*****\n",
      "*******\n",
      "*********\n",
      "***********\n"
     ]
    }
   ],
   "source": [
    "a = 6\n",
    "\n",
    "for i in range(1, a+1):\n",
    "    print('*' * (2*i -1))"
   ]
  },
  {
   "cell_type": "markdown",
   "id": "fc8313be",
   "metadata": {},
   "source": [
    "# Q.10. Write a code to create the given structure using while loop."
   ]
  },
  {
   "cell_type": "markdown",
   "id": "84e081c8",
   "metadata": {},
   "source": [
    "#  |||||||||\n",
    "#  |||||||\n",
    "#  |||||\n",
    "#  |||\n",
    "#  |"
   ]
  },
  {
   "cell_type": "code",
   "execution_count": 8,
   "id": "22a7a8fb",
   "metadata": {
    "scrolled": true
   },
   "outputs": [
    {
     "name": "stdout",
     "output_type": "stream",
     "text": [
      "|||||||||\n",
      "|||||||\n",
      "|||||\n",
      "|||\n",
      "|\n"
     ]
    }
   ],
   "source": [
    "i =9 \n",
    "while i > 0:\n",
    "    print('|' * i)\n",
    "    i = i-2"
   ]
  },
  {
   "cell_type": "code",
   "execution_count": null,
   "id": "d8a5c8e7",
   "metadata": {},
   "outputs": [],
   "source": []
  }
 ],
 "metadata": {
  "kernelspec": {
   "display_name": "Python 3 (ipykernel)",
   "language": "python",
   "name": "python3"
  },
  "language_info": {
   "codemirror_mode": {
    "name": "ipython",
    "version": 3
   },
   "file_extension": ".py",
   "mimetype": "text/x-python",
   "name": "python",
   "nbconvert_exporter": "python",
   "pygments_lexer": "ipython3",
   "version": "3.10.9"
  }
 },
 "nbformat": 4,
 "nbformat_minor": 5
}
